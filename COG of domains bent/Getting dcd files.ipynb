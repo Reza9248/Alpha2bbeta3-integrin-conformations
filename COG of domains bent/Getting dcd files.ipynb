{
 "cells": [
  {
   "cell_type": "code",
   "execution_count": 2,
   "id": "d36b858d",
   "metadata": {},
   "outputs": [
    {
     "name": "stdout",
     "output_type": "stream",
     "text": [
      "Processing bent_Calpha.pdb and filtered_bent_control.xtc\n",
      "Aligned DCD file generated: filtered_bent_control_aligned.dcd\n",
      "Processing bent_Calpha.pdb and filtered_bent_force.xtc\n",
      "Aligned DCD file generated: filtered_bent_force_aligned.dcd\n",
      "Processing bentRGD_Calpha.pdb and filtered_bentRGD_control.xtc\n",
      "Aligned DCD file generated: filtered_bentRGD_control_aligned.dcd\n",
      "Processing bentRGD_Calpha.pdb and filtered_bentRGD_force.xtc\n",
      "Aligned DCD file generated: filtered_bentRGD_force_aligned.dcd\n",
      "Processing completed for all files.\n"
     ]
    }
   ],
   "source": [
    "import MDAnalysis as mda\n",
    "from MDAnalysis.analysis import align\n",
    "import warnings\n",
    "\n",
    "# Suppress MDAnalysis warnings about writing PDB files\n",
    "warnings.filterwarnings('ignore')\n",
    "\n",
    "# Define the list of input file tuples (pdb, xtc)\n",
    "input_files = [\n",
    "    (\"bent_Calpha.pdb\", \"filtered_bent_control.xtc\"),\n",
    "    (\"bent_Calpha.pdb\", \"filtered_bent_force.xtc\"),\n",
    "    (\"bentRGD_Calpha.pdb\", \"filtered_bentRGD_control.xtc\"),\n",
    "    (\"bentRGD_Calpha.pdb\", \"filtered_bentRGD_force.xtc\"),\n",
    "]\n",
    "\n",
    "# Process each pair of files\n",
    "for pdb_file, xtc_file in input_files:\n",
    "    try:\n",
    "        # Create a Universe object from PDB and XTC files\n",
    "        u = mda.Universe(pdb_file, xtc_file)\n",
    "        print(f\"Processing {pdb_file} and {xtc_file}\")\n",
    "\n",
    "        # Align trajectories to the backbone to stabilize the structure over the trajectory\n",
    "        aligner = align.AlignTraj(u, u, select='backbone', in_memory=True).run()\n",
    "\n",
    "        # Create an output filename based on the input XTC filename\n",
    "        output_filename = xtc_file.replace('.xtc', '_aligned.dcd')\n",
    "\n",
    "        # Define a DCD writer for the output of the aligned trajectory\n",
    "        with mda.Writer(output_filename, u.trajectory.n_atoms) as W:\n",
    "            for ts in u.trajectory:\n",
    "                W.write(u)\n",
    "\n",
    "        print(f\"Aligned DCD file generated: {output_filename}\")\n",
    "\n",
    "    except FileNotFoundError:\n",
    "        print(f'Could not find files: {pdb_file} or {xtc_file}. Please verify inputs.')\n",
    "    except Exception as e:\n",
    "        print(f\"An error occurred while processing {pdb_file} and {xtc_file}: {str(e)}\")\n",
    "\n",
    "print(\"Processing completed for all files.\")\n"
   ]
  },
  {
   "cell_type": "code",
   "execution_count": null,
   "id": "5d45b06e",
   "metadata": {},
   "outputs": [],
   "source": []
  }
 ],
 "metadata": {
  "kernelspec": {
   "display_name": "Python 3 (ipykernel)",
   "language": "python",
   "name": "python3"
  },
  "language_info": {
   "codemirror_mode": {
    "name": "ipython",
    "version": 3
   },
   "file_extension": ".py",
   "mimetype": "text/x-python",
   "name": "python",
   "nbconvert_exporter": "python",
   "pygments_lexer": "ipython3",
   "version": "3.11.5"
  }
 },
 "nbformat": 4,
 "nbformat_minor": 5
}
